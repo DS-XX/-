{
 "cells": [
  {
   "cell_type": "code",
   "execution_count": 7,
   "id": "c4f864ef",
   "metadata": {},
   "outputs": [
    {
     "name": "stdout",
     "output_type": "stream",
     "text": [
      "          index       date   open   high    low  close     volume  increase  \\\n",
      "0     000063.SZ 2020-03-02  52.00  55.00  50.50  54.60  227384795      4.60   \n",
      "1     000063.SZ 2020-02-28  48.40  51.00  48.40  50.00  153674147     -1.48   \n",
      "2     000063.SZ 2020-02-27  51.15  52.64  49.18  51.48  158842568      0.53   \n",
      "3     000063.SZ 2020-02-26  53.50  53.93  50.50  50.95  206819148     -4.16   \n",
      "4     000063.SZ 2020-02-25  50.70  55.11  49.07  55.11  276855333      5.00   \n",
      "...         ...        ...    ...    ...    ...    ...        ...       ...   \n",
      "2442  000063.SZ 2010-02-08  42.70  43.54  42.22  43.00    5294084      0.30   \n",
      "2443  000063.SZ 2010-02-05  42.30  43.08  42.00  42.70    8017370     -0.30   \n",
      "2444  000063.SZ 2010-02-04  42.05  43.10  41.71  43.00    8043983      0.80   \n",
      "2445  000063.SZ 2010-02-03  41.16  42.69  40.68  42.20    8894706      0.90   \n",
      "2446  000063.SZ 2010-02-02  42.10  43.01  41.14  41.30   10221699     -0.80   \n",
      "\n",
      "      increaserate  change       PE      PB    A-index  communicaiton-index  \\\n",
      "0           9.2000  6.5490   0.0000  0.0000  1885.0635            4450.2482   \n",
      "1          -2.8749  4.4261   0.0000  0.0000  1885.0635            4179.8664   \n",
      "2           1.0402  4.5749   0.0000  0.0000  1982.8767            4439.1923   \n",
      "3          -7.5485  5.9567   0.0000  0.0000  1978.1273            4457.8691   \n",
      "4           9.9780  7.9739   0.0000  0.0000  2033.1970            4722.3704   \n",
      "...            ...     ...      ...     ...        ...                  ...   \n",
      "2442        0.7026  0.3608  33.0554  4.8293  1154.0030            1513.7167   \n",
      "2443       -0.6977  0.5464  32.8248  4.7956  1151.7710            1507.9291   \n",
      "2444        1.8957  0.5482  33.0554  4.8293  1175.5330            1517.1969   \n",
      "2445        2.1792  0.6062  32.4404  4.7394  1172.0570            1508.8292   \n",
      "2446       -1.9002  0.6966  31.7485  4.6384  1150.7180            1503.3821   \n",
      "\n",
      "      label  \n",
      "0     50.00  \n",
      "1     51.48  \n",
      "2     50.95  \n",
      "3     55.11  \n",
      "4     50.11  \n",
      "...     ...  \n",
      "2442  42.70  \n",
      "2443  43.00  \n",
      "2444  42.20  \n",
      "2445  41.30  \n",
      "2446   0.00  \n",
      "\n",
      "[2447 rows x 15 columns]\n"
     ]
    }
   ],
   "source": [
    "import pandas as pd\n",
    "\n",
    "#中文输入\n",
    "df = pd.read_excel('E:\\学习文件\\pytorch\\大三下学期工作室项目——股票数据分析预测\\stock-prediction-main\\数据集\\中兴通讯10-20财务数据.xlsx')\n",
    "print(df)"
   ]
  },
  {
   "cell_type": "code",
   "execution_count": 26,
   "id": "74aea174",
   "metadata": {},
   "outputs": [
    {
     "ename": "FileNotFoundError",
     "evalue": "[Errno 2] No such file or directory: 'E:\\\\学习文件\\\\pytorch\\\\大三下学期工作室项目——股票数据分析预测\\\\stock-prediction-main\\\\数据集\\\\中兴通讯10-20财务数据删0过后.xlsx'",
     "output_type": "error",
     "traceback": [
      "\u001b[1;31m---------------------------------------------------------------------------\u001b[0m",
      "\u001b[1;31mFileNotFoundError\u001b[0m                         Traceback (most recent call last)",
      "\u001b[1;32m<ipython-input-26-061663d78f0d>\u001b[0m in \u001b[0;36m<module>\u001b[1;34m\u001b[0m\n\u001b[0;32m      4\u001b[0m \u001b[0mfilename\u001b[0m\u001b[1;33m=\u001b[0m\u001b[1;34m'E:\\学习文件\\pytorch\\大三下学期工作室项目——股票数据分析预测\\stock-prediction-main\\数据集\\中兴通讯10-20财务数据.xlsx'\u001b[0m\u001b[1;33m\u001b[0m\u001b[1;33m\u001b[0m\u001b[0m\n\u001b[0;32m      5\u001b[0m \u001b[0mfilename\u001b[0m\u001b[1;33m=\u001b[0m\u001b[1;34m'E:\\学习文件\\pytorch\\大三下学期工作室项目——股票数据分析预测\\stock-prediction-main\\数据集\\中兴通讯10-20财务数据删0过后.xlsx'\u001b[0m\u001b[1;33m\u001b[0m\u001b[1;33m\u001b[0m\u001b[0m\n\u001b[1;32m----> 6\u001b[1;33m \u001b[0mwe\u001b[0m\u001b[1;33m=\u001b[0m\u001b[0mload_workbook\u001b[0m\u001b[1;33m(\u001b[0m\u001b[0mfilename\u001b[0m\u001b[1;33m)\u001b[0m\u001b[1;33m\u001b[0m\u001b[1;33m\u001b[0m\u001b[0m\n\u001b[0m\u001b[0;32m      7\u001b[0m \u001b[0mws\u001b[0m\u001b[1;33m=\u001b[0m\u001b[0mwe\u001b[0m\u001b[1;33m.\u001b[0m\u001b[0mactive\u001b[0m\u001b[1;33m\u001b[0m\u001b[1;33m\u001b[0m\u001b[0m\n\u001b[0;32m      8\u001b[0m \u001b[1;33m\u001b[0m\u001b[0m\n",
      "\u001b[1;32mD:\\Anaconda\\envs\\stock\\lib\\site-packages\\openpyxl\\reader\\excel.py\u001b[0m in \u001b[0;36mload_workbook\u001b[1;34m(filename, read_only, keep_vba, data_only, keep_links)\u001b[0m\n\u001b[0;32m    314\u001b[0m     \"\"\"\n\u001b[0;32m    315\u001b[0m     reader = ExcelReader(filename, read_only, keep_vba,\n\u001b[1;32m--> 316\u001b[1;33m                         data_only, keep_links)\n\u001b[0m\u001b[0;32m    317\u001b[0m     \u001b[0mreader\u001b[0m\u001b[1;33m.\u001b[0m\u001b[0mread\u001b[0m\u001b[1;33m(\u001b[0m\u001b[1;33m)\u001b[0m\u001b[1;33m\u001b[0m\u001b[1;33m\u001b[0m\u001b[0m\n\u001b[0;32m    318\u001b[0m     \u001b[1;32mreturn\u001b[0m \u001b[0mreader\u001b[0m\u001b[1;33m.\u001b[0m\u001b[0mwb\u001b[0m\u001b[1;33m\u001b[0m\u001b[1;33m\u001b[0m\u001b[0m\n",
      "\u001b[1;32mD:\\Anaconda\\envs\\stock\\lib\\site-packages\\openpyxl\\reader\\excel.py\u001b[0m in \u001b[0;36m__init__\u001b[1;34m(self, fn, read_only, keep_vba, data_only, keep_links)\u001b[0m\n\u001b[0;32m    122\u001b[0m     def __init__(self,  fn, read_only=False, keep_vba=KEEP_VBA,\n\u001b[0;32m    123\u001b[0m                   data_only=False, keep_links=True):\n\u001b[1;32m--> 124\u001b[1;33m         \u001b[0mself\u001b[0m\u001b[1;33m.\u001b[0m\u001b[0marchive\u001b[0m \u001b[1;33m=\u001b[0m \u001b[0m_validate_archive\u001b[0m\u001b[1;33m(\u001b[0m\u001b[0mfn\u001b[0m\u001b[1;33m)\u001b[0m\u001b[1;33m\u001b[0m\u001b[1;33m\u001b[0m\u001b[0m\n\u001b[0m\u001b[0;32m    125\u001b[0m         \u001b[0mself\u001b[0m\u001b[1;33m.\u001b[0m\u001b[0mvalid_files\u001b[0m \u001b[1;33m=\u001b[0m \u001b[0mself\u001b[0m\u001b[1;33m.\u001b[0m\u001b[0marchive\u001b[0m\u001b[1;33m.\u001b[0m\u001b[0mnamelist\u001b[0m\u001b[1;33m(\u001b[0m\u001b[1;33m)\u001b[0m\u001b[1;33m\u001b[0m\u001b[1;33m\u001b[0m\u001b[0m\n\u001b[0;32m    126\u001b[0m         \u001b[0mself\u001b[0m\u001b[1;33m.\u001b[0m\u001b[0mread_only\u001b[0m \u001b[1;33m=\u001b[0m \u001b[0mread_only\u001b[0m\u001b[1;33m\u001b[0m\u001b[1;33m\u001b[0m\u001b[0m\n",
      "\u001b[1;32mD:\\Anaconda\\envs\\stock\\lib\\site-packages\\openpyxl\\reader\\excel.py\u001b[0m in \u001b[0;36m_validate_archive\u001b[1;34m(filename)\u001b[0m\n\u001b[0;32m     94\u001b[0m             \u001b[1;32mraise\u001b[0m \u001b[0mInvalidFileException\u001b[0m\u001b[1;33m(\u001b[0m\u001b[0mmsg\u001b[0m\u001b[1;33m)\u001b[0m\u001b[1;33m\u001b[0m\u001b[1;33m\u001b[0m\u001b[0m\n\u001b[0;32m     95\u001b[0m \u001b[1;33m\u001b[0m\u001b[0m\n\u001b[1;32m---> 96\u001b[1;33m     \u001b[0marchive\u001b[0m \u001b[1;33m=\u001b[0m \u001b[0mZipFile\u001b[0m\u001b[1;33m(\u001b[0m\u001b[0mfilename\u001b[0m\u001b[1;33m,\u001b[0m \u001b[1;34m'r'\u001b[0m\u001b[1;33m)\u001b[0m\u001b[1;33m\u001b[0m\u001b[1;33m\u001b[0m\u001b[0m\n\u001b[0m\u001b[0;32m     97\u001b[0m     \u001b[1;32mreturn\u001b[0m \u001b[0marchive\u001b[0m\u001b[1;33m\u001b[0m\u001b[1;33m\u001b[0m\u001b[0m\n\u001b[0;32m     98\u001b[0m \u001b[1;33m\u001b[0m\u001b[0m\n",
      "\u001b[1;32mD:\\Anaconda\\envs\\stock\\lib\\zipfile.py\u001b[0m in \u001b[0;36m__init__\u001b[1;34m(self, file, mode, compression, allowZip64, compresslevel)\u001b[0m\n\u001b[0;32m   1238\u001b[0m             \u001b[1;32mwhile\u001b[0m \u001b[1;32mTrue\u001b[0m\u001b[1;33m:\u001b[0m\u001b[1;33m\u001b[0m\u001b[1;33m\u001b[0m\u001b[0m\n\u001b[0;32m   1239\u001b[0m                 \u001b[1;32mtry\u001b[0m\u001b[1;33m:\u001b[0m\u001b[1;33m\u001b[0m\u001b[1;33m\u001b[0m\u001b[0m\n\u001b[1;32m-> 1240\u001b[1;33m                     \u001b[0mself\u001b[0m\u001b[1;33m.\u001b[0m\u001b[0mfp\u001b[0m \u001b[1;33m=\u001b[0m \u001b[0mio\u001b[0m\u001b[1;33m.\u001b[0m\u001b[0mopen\u001b[0m\u001b[1;33m(\u001b[0m\u001b[0mfile\u001b[0m\u001b[1;33m,\u001b[0m \u001b[0mfilemode\u001b[0m\u001b[1;33m)\u001b[0m\u001b[1;33m\u001b[0m\u001b[1;33m\u001b[0m\u001b[0m\n\u001b[0m\u001b[0;32m   1241\u001b[0m                 \u001b[1;32mexcept\u001b[0m \u001b[0mOSError\u001b[0m\u001b[1;33m:\u001b[0m\u001b[1;33m\u001b[0m\u001b[1;33m\u001b[0m\u001b[0m\n\u001b[0;32m   1242\u001b[0m                     \u001b[1;32mif\u001b[0m \u001b[0mfilemode\u001b[0m \u001b[1;32min\u001b[0m \u001b[0mmodeDict\u001b[0m\u001b[1;33m:\u001b[0m\u001b[1;33m\u001b[0m\u001b[1;33m\u001b[0m\u001b[0m\n",
      "\u001b[1;31mFileNotFoundError\u001b[0m: [Errno 2] No such file or directory: 'E:\\\\学习文件\\\\pytorch\\\\大三下学期工作室项目——股票数据分析预测\\\\stock-prediction-main\\\\数据集\\\\中兴通讯10-20财务数据删0过后.xlsx'"
     ]
    }
   ],
   "source": [
    "from openpyxl import *\n",
    "\n",
    "\n",
    "filename='E:\\学习文件\\pytorch\\大三下学期工作室项目——股票数据分析预测\\stock-prediction-main\\数据集\\中兴通讯10-20财务数据.xlsx'\n",
    "filename1='E:\\学习文件\\pytorch\\大三下学期工作室项目——股票数据分析预测\\stock-prediction-main\\数据集\\中兴通讯10-20财务数据删0过后.xlsx'\n",
    "we=load_workbook(filename)\n",
    "ws=we.active\n",
    "\n",
    "shan=[]\n",
    "for i in range(2447):\n",
    "    for j in range(15):\n",
    "        if df.iloc[i][j]==0.0:\n",
    "            shan.append(i)\n",
    "            break\n",
    "for i in shan:\n",
    "    print(i)\n",
    "    ws.delete_rows(i-1,1)\n",
    "    "
   ]
  },
  {
   "cell_type": "code",
   "execution_count": null,
   "id": "5adff7fc",
   "metadata": {},
   "outputs": [],
   "source": [
    "we.save(filename1)"
   ]
  },
  {
   "cell_type": "code",
   "execution_count": 16,
   "id": "ca7f3480",
   "metadata": {},
   "outputs": [
    {
     "ename": "TypeError",
     "evalue": "'int' object is not callable",
     "output_type": "error",
     "traceback": [
      "\u001b[1;31m---------------------------------------------------------------------------\u001b[0m",
      "\u001b[1;31mTypeError\u001b[0m                                 Traceback (most recent call last)",
      "\u001b[1;32m<ipython-input-16-e2ea64ca197b>\u001b[0m in \u001b[0;36m<module>\u001b[1;34m\u001b[0m\n\u001b[1;32m----> 1\u001b[1;33m \u001b[0mlen\u001b[0m\u001b[1;33m(\u001b[0m\u001b[0mdf\u001b[0m\u001b[1;33m.\u001b[0m\u001b[0miloc\u001b[0m\u001b[1;33m[\u001b[0m\u001b[1;33m:\u001b[0m\u001b[1;33m]\u001b[0m\u001b[1;33m[\u001b[0m\u001b[1;36m0\u001b[0m\u001b[1;33m:\u001b[0m\u001b[1;33m]\u001b[0m\u001b[1;33m)\u001b[0m\u001b[1;33m\u001b[0m\u001b[1;33m\u001b[0m\u001b[0m\n\u001b[0m",
      "\u001b[1;31mTypeError\u001b[0m: 'int' object is not callable"
     ]
    }
   ],
   "source": [
    "len(df.iloc[:][0:])"
   ]
  },
  {
   "cell_type": "code",
   "execution_count": null,
   "id": "dfe9aafb",
   "metadata": {},
   "outputs": [],
   "source": []
  }
 ],
 "metadata": {
  "kernelspec": {
   "display_name": "Python (stock)",
   "language": "python",
   "name": "tf"
  },
  "language_info": {
   "codemirror_mode": {
    "name": "ipython",
    "version": 3
   },
   "file_extension": ".py",
   "mimetype": "text/x-python",
   "name": "python",
   "nbconvert_exporter": "python",
   "pygments_lexer": "ipython3",
   "version": "3.7.10"
  }
 },
 "nbformat": 4,
 "nbformat_minor": 5
}
